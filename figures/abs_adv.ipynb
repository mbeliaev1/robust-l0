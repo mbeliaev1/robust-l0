{
 "cells": [
  {
   "cell_type": "code",
   "execution_count": 21,
   "metadata": {},
   "outputs": [],
   "source": [
    "import torchattacks\n",
    "import torch\n",
    "import numpy as np\n",
    "import json\n",
    "import logging\n",
    "from tqdm import trange\n",
    "\n",
    "import os\n",
    "import sys\n",
    "root = os.path.abspath(os.curdir)\n",
    "sys.path.append(root)\n",
    "\n",
    "from abs_models import models as mz        # model zoo\n",
    "from abs_models import utils as u\n",
    "\n",
    "from utils.models import load_net\n",
    "from utils.helpers import *\n",
    "from utils.attack import attack"
   ]
  },
  {
   "cell_type": "code",
   "execution_count": 2,
   "metadata": {},
   "outputs": [],
   "source": [
    "# device = 'cuda:0'\n",
    "# bs=100\n",
    "# logging.basicConfig(filename=os.path.join(root,'abs_attacks.txt'), \n",
    "#                     level=logging.CRITICAL, \n",
    "#                     format=\"%(message)s\")\n",
    "\n",
    "# logging.critical('Starting evaluation of abs model')\n",
    "# logging.critical('-----------------------------------------------')\n",
    "\n",
    "# model = mz.get_VAE(n_iter=50).to(device)              # ABS do n_iter=1 for speedup (but ess accurate)\n",
    "# x, y_target = u.get_batch(bs)  \n",
    "# logits = model(u.n2t(x))             # returns torch.tensor, shape (batch_size, n_channels, nx, ny)\n",
    "\n",
    "# y = np.argmax(logits.cpu(), axis=1)\n",
    "# acc = 100*float(np.sum(np.array(y)==y_target)/bs)\n",
    "# print(acc)\n",
    "# logging.critical('clean accuracy: %.2f'%acc)"
   ]
  },
  {
   "cell_type": "code",
   "execution_count": 22,
   "metadata": {},
   "outputs": [],
   "source": [
    "mnist_path = '/home/mbeliaev/home/code/robust-l0/new_trained/final_500/MNIST/1/cnn_small/simple/k_25/adv_25/0/setup.json'\n",
    "cifar_path = '/home/mbeliaev/home/code/robust-l0/new_trained/final_500/CIFAR/1/VGG16/simple/k_50/adv_50/0/setup.json'"
   ]
  },
  {
   "cell_type": "code",
   "execution_count": 52,
   "metadata": {},
   "outputs": [
    {
     "name": "stdout",
     "output_type": "stream",
     "text": [
      "Files already downloaded and verified\n",
      "Files already downloaded and verified\n"
     ]
    },
    {
     "data": {
      "text/plain": [
       "Net(\n",
       "  (trunc): Sequential(\n",
       "    (0): Flatten(start_dim=1, end_dim=-1)\n",
       "    (1): trunc_simple()\n",
       "    (2): Unflatten(dim=1, unflattened_size=torch.Size([3, 32, 32]))\n",
       "  )\n",
       "  (features): Sequential(\n",
       "    (0): Conv2d(3, 64, kernel_size=(3, 3), stride=(1, 1), padding=(1, 1))\n",
       "    (1): BatchNorm2d(64, eps=1e-05, momentum=0.1, affine=True, track_running_stats=True)\n",
       "    (2): ReLU(inplace=True)\n",
       "    (3): Conv2d(64, 64, kernel_size=(3, 3), stride=(1, 1), padding=(1, 1))\n",
       "    (4): BatchNorm2d(64, eps=1e-05, momentum=0.1, affine=True, track_running_stats=True)\n",
       "    (5): ReLU(inplace=True)\n",
       "    (6): MaxPool2d(kernel_size=2, stride=2, padding=0, dilation=1, ceil_mode=False)\n",
       "    (7): Conv2d(64, 128, kernel_size=(3, 3), stride=(1, 1), padding=(1, 1))\n",
       "    (8): BatchNorm2d(128, eps=1e-05, momentum=0.1, affine=True, track_running_stats=True)\n",
       "    (9): ReLU(inplace=True)\n",
       "    (10): Conv2d(128, 128, kernel_size=(3, 3), stride=(1, 1), padding=(1, 1))\n",
       "    (11): BatchNorm2d(128, eps=1e-05, momentum=0.1, affine=True, track_running_stats=True)\n",
       "    (12): ReLU(inplace=True)\n",
       "    (13): MaxPool2d(kernel_size=2, stride=2, padding=0, dilation=1, ceil_mode=False)\n",
       "    (14): Conv2d(128, 256, kernel_size=(3, 3), stride=(1, 1), padding=(1, 1))\n",
       "    (15): BatchNorm2d(256, eps=1e-05, momentum=0.1, affine=True, track_running_stats=True)\n",
       "    (16): ReLU(inplace=True)\n",
       "    (17): Conv2d(256, 256, kernel_size=(3, 3), stride=(1, 1), padding=(1, 1))\n",
       "    (18): BatchNorm2d(256, eps=1e-05, momentum=0.1, affine=True, track_running_stats=True)\n",
       "    (19): ReLU(inplace=True)\n",
       "    (20): Conv2d(256, 256, kernel_size=(3, 3), stride=(1, 1), padding=(1, 1))\n",
       "    (21): BatchNorm2d(256, eps=1e-05, momentum=0.1, affine=True, track_running_stats=True)\n",
       "    (22): ReLU(inplace=True)\n",
       "    (23): MaxPool2d(kernel_size=2, stride=2, padding=0, dilation=1, ceil_mode=False)\n",
       "    (24): Conv2d(256, 512, kernel_size=(3, 3), stride=(1, 1), padding=(1, 1))\n",
       "    (25): BatchNorm2d(512, eps=1e-05, momentum=0.1, affine=True, track_running_stats=True)\n",
       "    (26): ReLU(inplace=True)\n",
       "    (27): Conv2d(512, 512, kernel_size=(3, 3), stride=(1, 1), padding=(1, 1))\n",
       "    (28): BatchNorm2d(512, eps=1e-05, momentum=0.1, affine=True, track_running_stats=True)\n",
       "    (29): ReLU(inplace=True)\n",
       "    (30): Conv2d(512, 512, kernel_size=(3, 3), stride=(1, 1), padding=(1, 1))\n",
       "    (31): BatchNorm2d(512, eps=1e-05, momentum=0.1, affine=True, track_running_stats=True)\n",
       "    (32): ReLU(inplace=True)\n",
       "    (33): MaxPool2d(kernel_size=2, stride=2, padding=0, dilation=1, ceil_mode=False)\n",
       "    (34): Conv2d(512, 512, kernel_size=(3, 3), stride=(1, 1), padding=(1, 1))\n",
       "    (35): BatchNorm2d(512, eps=1e-05, momentum=0.1, affine=True, track_running_stats=True)\n",
       "    (36): ReLU(inplace=True)\n",
       "    (37): Conv2d(512, 512, kernel_size=(3, 3), stride=(1, 1), padding=(1, 1))\n",
       "    (38): BatchNorm2d(512, eps=1e-05, momentum=0.1, affine=True, track_running_stats=True)\n",
       "    (39): ReLU(inplace=True)\n",
       "    (40): Conv2d(512, 512, kernel_size=(3, 3), stride=(1, 1), padding=(1, 1))\n",
       "    (41): BatchNorm2d(512, eps=1e-05, momentum=0.1, affine=True, track_running_stats=True)\n",
       "    (42): ReLU(inplace=True)\n",
       "    (43): MaxPool2d(kernel_size=2, stride=2, padding=0, dilation=1, ceil_mode=False)\n",
       "    (44): AvgPool2d(kernel_size=1, stride=1, padding=0)\n",
       "  )\n",
       "  (classifier): Sequential(\n",
       "    (0): Linear(in_features=512, out_features=10, bias=True)\n",
       "  )\n",
       "  (b_norm): BatchNorm2d(3, eps=1e-05, momentum=0.1, affine=True, track_running_stats=True)\n",
       ")"
      ]
     },
     "execution_count": 52,
     "metadata": {},
     "output_type": "execute_result"
    }
   ],
   "source": [
    "device = 'cuda:0'\n",
    "bs = 100\n",
    "cfg_path = cifar_path\n",
    "\n",
    "config = json.load(open(cfg_path,'rb'))\n",
    "data = prep_data(root, bs=bs, dataset=config['dataset'])\n",
    "result_path = cfg_path[0:-len('/setup.json')]\n",
    "\n",
    "model = load_net(result_path, device, input_shape=data['x_test'][0].shape)\n",
    "model.to(device)"
   ]
  },
  {
   "cell_type": "code",
   "execution_count": 53,
   "metadata": {},
   "outputs": [
    {
     "name": "stderr",
     "output_type": "stream",
     "text": [
      "/tmp/ipykernel_2780951/207749188.py:6: UserWarning: To copy construct from a tensor, it is recommended to use sourceTensor.clone().detach() or sourceTensor.clone().detach().requires_grad_(True), rather than torch.tensor(sourceTensor).\n",
      "  adv_x = atk(torch.tensor(x),torch.tensor(y))\n",
      "/home/mbeliaev/miniconda3/envs/robust/lib/python3.8/site-packages/torchattacks/attacks/_differential_evolution.py:592: RuntimeWarning: divide by zero encountered in double_scalars\n",
      "  convergence=self.tol / convergence) is True):\n"
     ]
    },
    {
     "name": "stdout",
     "output_type": "stream",
     "text": [
      "Robust Accuracy:  0.0 %\n"
     ]
    }
   ],
   "source": [
    "atk = torchattacks.OnePixel(model,pixels=1)\n",
    "# atk = torchattacks.SparseFool(model)\n",
    "\n",
    "# atk = torchattacks.LGV(model)\n",
    "x,y  = data['x_test'][0], data['y_test'][0]\n",
    "adv_x = atk(torch.tensor(x),torch.tensor(y))\n",
    "\n",
    "y_adv = np.argmax(model(adv_x).detach().cpu(), axis=1)\n",
    "r_acc = 100*float(np.sum(np.array(y_adv)==y)/bs)\n",
    "print('Robust Accuracy: ',r_acc,'%')\n",
    "\n",
    "\n",
    "# x.shape\n",
    "# adv_x = atk(torch.tensor(x),torch.tensor(y_target))           "
   ]
  },
  {
   "cell_type": "code",
   "execution_count": 54,
   "metadata": {},
   "outputs": [
    {
     "data": {
      "text/plain": [
       "tensor(3)"
      ]
     },
     "execution_count": 54,
     "metadata": {},
     "output_type": "execute_result"
    }
   ],
   "source": [
    "(adv_x.detach().cpu() != x).sum()//100"
   ]
  },
  {
   "cell_type": "code",
   "execution_count": 16,
   "metadata": {},
   "outputs": [
    {
     "name": "stdout",
     "output_type": "stream",
     "text": [
      "ABS model\n",
      "model loaded\n",
      "setting random seed\n",
      "done creating samples\n"
     ]
    }
   ],
   "source": [
    "# atks to use: OnePixel SparseFool Pixle LGV\n",
    "device = 'cuda:0'\n",
    "bs=4\n",
    "model = mz.get_VAE(n_iter=2).to(device)              # ABS do n_iter=1 for speedup (but ess accurate)\n",
    "x, y_target = u.get_batch(bs)  \n",
    "\n",
    "atk = torchattacks.OnePixel(model,pixels=1)\n",
    "adv_x = atk(torch.tensor(x),torch.tensor(y_target))"
   ]
  },
  {
   "cell_type": "code",
   "execution_count": 17,
   "metadata": {},
   "outputs": [
    {
     "name": "stdout",
     "output_type": "stream",
     "text": [
      "Clean Accuracy:  96.0 %\n",
      "Robust Accuracy:  92.0 %\n"
     ]
    }
   ],
   "source": [
    "# compute clean acc\n",
    "logits = model(u.n2t(x))\n",
    "y = np.argmax(logits.cpu(), axis=1)\n",
    "acc = 100*float(np.sum(np.array(y)==y_target)/bs)\n",
    "print('Clean Accuracy: ',acc,'%')\n",
    "\n",
    "logits_adv = model(adv_x)\n",
    "y_adv = np.argmax(logits_adv.cpu(), axis=1)\n",
    "r_acc = 100*float(np.sum(np.array(y_adv)==y_target)/bs)\n",
    "print('Robust Accuracy: ',r_acc,'%')"
   ]
  },
  {
   "cell_type": "markdown",
   "metadata": {},
   "source": []
  }
 ],
 "metadata": {
  "kernelspec": {
   "display_name": "Python 3.8.5 ('robust')",
   "language": "python",
   "name": "python3"
  },
  "language_info": {
   "codemirror_mode": {
    "name": "ipython",
    "version": 3
   },
   "file_extension": ".py",
   "mimetype": "text/x-python",
   "name": "python",
   "nbconvert_exporter": "python",
   "pygments_lexer": "ipython3",
   "version": "3.8.5"
  },
  "orig_nbformat": 4,
  "vscode": {
   "interpreter": {
    "hash": "acfbcb7204aabebe0fded38f32a9455336bc712d2a72fb977b5ecc1782ddc648"
   }
  }
 },
 "nbformat": 4,
 "nbformat_minor": 2
}
