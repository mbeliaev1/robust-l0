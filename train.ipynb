{
 "cells": [
  {
   "cell_type": "code",
   "execution_count": 1,
   "metadata": {},
   "outputs": [],
   "source": [
    "import torch\n",
    "import torch.nn as nn\n",
    "import numpy as np\n",
    "\n",
    "# from utils.adv_trainer import *\n",
    "\n",
    "import os\n",
    "import sys\n",
    "root = os.path.abspath(os.curdir)\n",
    "sys.path.append(root)\n",
    "\n",
    "from utils.models import Net\n",
    "\n",
    "from utils.helpers import *\n",
    "\n",
    "from utils.adv_trainer import adv_trainer\n",
    "from tqdm import trange"
   ]
  },
  {
   "cell_type": "code",
   "execution_count": 2,
   "metadata": {},
   "outputs": [],
   "source": [
    "# PAPER PARAMS\n",
    "cfg_name = 'mlp'\n",
    "embedding = 100 \n",
    "bs = 256\n",
    "lr = 0.0005\n",
    "momentum = 0.9\n",
    "\n",
    "# Extra params\n",
    "decay = 1\n",
    "k = 12\n",
    "perturb = 12\n",
    "seed = 4\n",
    "save_dir = '/new_trained/test/'\n",
    "num_iters = 2\n",
    "num_epochs = 25 # per iteration\n",
    "num_queries = 10\n",
    "no_adv = False\n",
    "dataset = 'MNIST'\n",
    "device = 'cuda:0'\n",
    "\n",
    "# extra extra\n",
    "# Data = prep_data(root, bs, dataset)\n",
    "# Data['x_train'][0].shape\n",
    "# num_batches = 100\n",
    "# image = torch.randn(bs,1,28,28).to(device)\n",
    "# input_shape = image.shape"
   ]
  },
  {
   "cell_type": "code",
   "execution_count": 3,
   "metadata": {},
   "outputs": [
    {
     "name": "stdout",
     "output_type": "stream",
     "text": [
      "Running experiment:  linear_dep\n",
      "Running iter 0\n"
     ]
    },
    {
     "name": "stderr",
     "output_type": "stream",
     "text": [
      "100%|██████████| 25/25 [01:13<00:00,  2.92s/it]\n"
     ]
    },
    {
     "name": "stdout",
     "output_type": "stream",
     "text": [
      "Accuracy on testset: 91.530\n",
      "Accuracy on trainset: 99.995\n",
      "Running sparse-rs attack: 0/235 batches done\r"
     ]
    },
    {
     "name": "stderr",
     "output_type": "stream",
     "text": [
      "/home/mbeliaev/home/code/robust-l0/utils/attacks/sparse_rs.py:952: UserWarning: This overload of nonzero is deprecated:\n",
      "\tnonzero()\n",
      "Consider using one of the following signatures instead:\n",
      "\tnonzero(*, bool as_tuple) (Triggered internally at  /opt/conda/conda-bld/pytorch_1607370172916/work/torch/csrc/utils/python_arg_parser.cpp:882.)\n",
      "  ind_to_fool = acc.nonzero().squeeze()\n"
     ]
    },
    {
     "name": "stdout",
     "output_type": "stream",
     "text": [
      "Went from 235 batches to 255 batches after attack\n",
      "Running iter 1\n"
     ]
    },
    {
     "name": "stderr",
     "output_type": "stream",
     "text": [
      "100%|██████████| 25/25 [01:18<00:00,  3.13s/it]\n"
     ]
    },
    {
     "name": "stdout",
     "output_type": "stream",
     "text": [
      "Accuracy on testset: 91.730\n",
      "Accuracy on trainset: 99.998\n",
      "Final testset accuracy: 91.7300 batches done\n",
      "Robust accuracy: 0.030\n",
      "FINISHED TRAINING AND EVALUATING\n"
     ]
    }
   ],
   "source": [
    "# EXP_TYPES = ['og','linear_dep','clip','linear_dep_abs','clip_abs']\n",
    "EXP_TYPES = ['linear_dep']\n",
    "\n",
    "for exp_key in EXP_TYPES:\n",
    "    os.mkdir(root+save_dir+exp_key+'/')\n",
    "    print('Running experiment: ',exp_key)\n",
    "    if exp_key == 'og': \n",
    "        adv = 0\n",
    "        budget = perturb\n",
    "    else: \n",
    "        adv = k\n",
    "        budget = perturb\n",
    "    # create trainer\n",
    "    trainer = adv_trainer(root=root, \n",
    "                          cfg_name=cfg_name,\n",
    "                          trunc_type=exp_key,\n",
    "                          dataset=dataset,\n",
    "                          k=adv,\n",
    "                          perturb=budget,\n",
    "                          bs=bs, \n",
    "                          num_iters=num_iters, \n",
    "                          num_epochs=num_epochs,\n",
    "                          num_queries=num_queries, \n",
    "                          no_adv=no_adv,\n",
    "                          lr=lr,\n",
    "                          momentum=momentum,\n",
    "                          decay=decay,\n",
    "                          embedding=embedding,\n",
    "                          seed=99,\n",
    "                          save_dir=save_dir+exp_key+'/', \n",
    "                          device=device)\n",
    "    trainer.run()\n"
   ]
  },
  {
   "cell_type": "code",
   "execution_count": 4,
   "metadata": {},
   "outputs": [],
   "source": [
    "# import pickle\n",
    "\n",
    "# EXP_TYPES = ['og','linear_dep','clip','linear_dep_abs','clip_abs']\n",
    "\n",
    "# for exp_type in EXP_TYPES:\n",
    "#     print(exp_type)\n",
    "#     str_result_path = '/home/mbeliaev/home/code/robust-l0/new_trained/test2/%s/results.p'%exp_type\n",
    "#     result_path = '/home/mbeliaev/home/code/robust-l0/new_trained/test2/%s/f_results.p'%exp_type\n",
    "#     result = pickle.load(open(result_path,'rb'))\n",
    "#     print(result)\n",
    "#     print('--------'*8)\n",
    "#     str_result = pickle.load(open(str_result_path,'rb'))\n",
    "#     print('--------'*8)"
   ]
  },
  {
   "cell_type": "code",
   "execution_count": 5,
   "metadata": {},
   "outputs": [
    {
     "data": {
      "text/plain": [
       "784.0"
      ]
     },
     "execution_count": 5,
     "metadata": {},
     "output_type": "execute_result"
    }
   ],
   "source": [
    "1568/2"
   ]
  },
  {
   "cell_type": "code",
   "execution_count": null,
   "metadata": {},
   "outputs": [],
   "source": []
  }
 ],
 "metadata": {
  "kernelspec": {
   "display_name": "Python 3.8.5 ('robust')",
   "language": "python",
   "name": "python3"
  },
  "language_info": {
   "codemirror_mode": {
    "name": "ipython",
    "version": 3
   },
   "file_extension": ".py",
   "mimetype": "text/x-python",
   "name": "python",
   "nbconvert_exporter": "python",
   "pygments_lexer": "ipython3",
   "version": "3.8.5"
  },
  "orig_nbformat": 4,
  "vscode": {
   "interpreter": {
    "hash": "acfbcb7204aabebe0fded38f32a9455336bc712d2a72fb977b5ecc1782ddc648"
   }
  }
 },
 "nbformat": 4,
 "nbformat_minor": 2
}
