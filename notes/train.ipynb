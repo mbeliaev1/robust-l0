{
 "cells": [
  {
   "cell_type": "code",
   "execution_count": 1,
   "metadata": {},
   "outputs": [],
   "source": [
    "import torch\n",
    "import torch.nn as nn\n",
    "import numpy as np\n",
    "\n",
    "# from utils.adv_trainer import *\n",
    "\n",
    "import os\n",
    "import sys\n",
    "root = os.path.abspath('/home/mbeliaev/home/code/robust-l0/')\n",
    "sys.path.append(root)\n",
    "\n",
    "from utils.models import *\n",
    "from utils.helpers import *\n",
    "from utils.attack import *\n",
    "from utils.adv_trainer import *\n",
    "\n",
    "from tqdm import trange\n",
    "import pickle\n",
    "import json\n",
    "\n",
    "import torch"
   ]
  },
  {
   "cell_type": "code",
   "execution_count": 2,
   "metadata": {},
   "outputs": [],
   "source": [
    "cfg_name = 'cnn_small'\n",
    "trunc_type = 'simple'\n",
    "dataset = 'MNIST'\n",
    "k = 12\n",
    "perturb = 12\n",
    "beta = 100 \n",
    "bs = 256 \n",
    "num_epochs = 20\n",
    "num_queries = 100 \n",
    "no_adv = False\n",
    "lr = 0.01\n",
    "momentum = 0.9\n",
    "seed = 1\n",
    "save_dir = '/new_trained/test/'\n",
    "device = 'cuda:0'"
   ]
  },
  {
   "cell_type": "code",
   "execution_count": 3,
   "metadata": {},
   "outputs": [],
   "source": [
    "trainer = adv_trainer(root, \n",
    "                      cfg_name,\n",
    "                      trunc_type,\n",
    "                      dataset,\n",
    "                      k,\n",
    "                      perturb,\n",
    "                      beta,\n",
    "                      bs, \n",
    "                      num_epochs,\n",
    "                      num_queries, \n",
    "                      no_adv,\n",
    "                      lr,\n",
    "                      momentum,\n",
    "                      seed,\n",
    "                      save_dir, \n",
    "                      device)"
   ]
  },
  {
   "cell_type": "code",
   "execution_count": 4,
   "metadata": {},
   "outputs": [
    {
     "name": "stdout",
     "output_type": "stream",
     "text": [
      "Running sparse-rs attack: 0/4 batches done\r"
     ]
    },
    {
     "name": "stderr",
     "output_type": "stream",
     "text": [
      "/home/mbeliaev/home/code/robust-l0/utils/attacks/sparse_rs.py:952: UserWarning: This overload of nonzero is deprecated:\n",
      "\tnonzero()\n",
      "Consider using one of the following signatures instead:\n",
      "\tnonzero(*, bool as_tuple) (Triggered internally at  /opt/conda/conda-bld/pytorch_1607370172916/work/torch/csrc/utils/python_arg_parser.cpp:882.)\n",
      "  ind_to_fool = acc.nonzero().squeeze()\n"
     ]
    },
    {
     "name": "stdout",
     "output_type": "stream",
     "text": [
      "Running sparse-rs attack: 41/231 batches donee\r"
     ]
    },
    {
     "ename": "KeyboardInterrupt",
     "evalue": "",
     "output_type": "error",
     "traceback": [
      "\u001b[0;31m---------------------------------------------------------------------------\u001b[0m",
      "\u001b[0;31mKeyboardInterrupt\u001b[0m                         Traceback (most recent call last)",
      "\u001b[1;32m/home/mbeliaev/home/code/robust-l0/notes/train.ipynb Cell 4\u001b[0m in \u001b[0;36m<cell line: 1>\u001b[0;34m()\u001b[0m\n\u001b[0;32m----> <a href='vscode-notebook-cell://ssh-remote%2B7b22686f73744e616d65223a22646863703138352d36342e6563652e756373622e656475222c2275736572223a226d62656c69616576227d/home/mbeliaev/home/code/robust-l0/notes/train.ipynb#W3sdnNjb2RlLXJlbW90ZQ%3D%3D?line=0'>1</a>\u001b[0m trainer\u001b[39m.\u001b[39;49mrun()\n",
      "File \u001b[0;32m~/home/code/robust-l0/utils/adv_trainer.py:231\u001b[0m, in \u001b[0;36madv_trainer.run\u001b[0;34m(self)\u001b[0m\n\u001b[1;32m    228\u001b[0m \u001b[39mfor\u001b[39;00m epoch \u001b[39min\u001b[39;00m \u001b[39mrange\u001b[39m(\u001b[39mself\u001b[39m\u001b[39m.\u001b[39mnum_epochs):\n\u001b[1;32m    229\u001b[0m     \u001b[39m# no adversarial examples first epoch\u001b[39;00m\n\u001b[1;32m    230\u001b[0m     \u001b[39mif\u001b[39;00m (epoch \u001b[39m>\u001b[39m \u001b[39m0\u001b[39m) \u001b[39mand\u001b[39;00m (\u001b[39mnot\u001b[39;00m \u001b[39mself\u001b[39m\u001b[39m.\u001b[39mno_adv):\n\u001b[0;32m--> 231\u001b[0m         old, new \u001b[39m=\u001b[39m \u001b[39mself\u001b[39;49m\u001b[39m.\u001b[39;49mattack_save()\n\u001b[1;32m    232\u001b[0m         logging\u001b[39m.\u001b[39minfo(\u001b[39m'\u001b[39m\u001b[39madv epoch \u001b[39m\u001b[39m%d\u001b[39;00m\u001b[39m/\u001b[39m\u001b[39m%d\u001b[39;00m\u001b[39m: \u001b[39m\u001b[39m%.2f\u001b[39;00m\u001b[39m'\u001b[39m\u001b[39m%\u001b[39m(epoch,\u001b[39mself\u001b[39m\u001b[39m.\u001b[39mnum_epochs,\u001b[39m100\u001b[39m\u001b[39m*\u001b[39m(\u001b[39m1\u001b[39m\u001b[39m-\u001b[39m((new\u001b[39m-\u001b[39mold)\u001b[39m/\u001b[39mold))))\n\u001b[1;32m    234\u001b[0m     \u001b[39m# change lr if 75% or last epoch\u001b[39;00m\n",
      "File \u001b[0;32m~/home/code/robust-l0/utils/adv_trainer.py:185\u001b[0m, in \u001b[0;36madv_trainer.attack_save\u001b[0;34m(self)\u001b[0m\n\u001b[1;32m    178\u001b[0m \u001b[39m'''\u001b[39;00m\n\u001b[1;32m    179\u001b[0m \u001b[39mGoes through original train set and attacks with sprase_rs for\u001b[39;00m\n\u001b[1;32m    180\u001b[0m \u001b[39mnum_queries. Saves the corresponding new examples\u001b[39;00m\n\u001b[1;32m    181\u001b[0m \u001b[39mto the trainset in Data and returns how many new examples were created\u001b[39;00m\n\u001b[1;32m    182\u001b[0m \u001b[39m'''\u001b[39;00m\n\u001b[1;32m    184\u001b[0m \u001b[39m# generate adversarial examples\u001b[39;00m\n\u001b[0;32m--> 185\u001b[0m _, x_advs, y_advs, _ \u001b[39m=\u001b[39m \u001b[39mself\u001b[39;49m\u001b[39m.\u001b[39;49mr_test(valid\u001b[39m=\u001b[39;49m\u001b[39mFalse\u001b[39;49;00m)\n\u001b[1;32m    186\u001b[0m \u001b[39m# re initialize the dataset\u001b[39;00m\n\u001b[1;32m    187\u001b[0m \u001b[39mself\u001b[39m\u001b[39m.\u001b[39mData[\u001b[39m'\u001b[39m\u001b[39mx_train\u001b[39m\u001b[39m'\u001b[39m] \u001b[39m=\u001b[39m []\n",
      "File \u001b[0;32m~/home/code/robust-l0/utils/adv_trainer.py:164\u001b[0m, in \u001b[0;36madv_trainer.r_test\u001b[0;34m(self, valid)\u001b[0m\n\u001b[1;32m    161\u001b[0m     data_string \u001b[39m=\u001b[39m \u001b[39m'\u001b[39m\u001b[39mog\u001b[39m\u001b[39m'\u001b[39m\n\u001b[1;32m    162\u001b[0m     num_queries \u001b[39m=\u001b[39m \u001b[39mself\u001b[39m\u001b[39m.\u001b[39mnum_queries\n\u001b[0;32m--> 164\u001b[0m r_acc, x_advs, y_advs, i_advs \u001b[39m=\u001b[39m attack(net\u001b[39m=\u001b[39;49m \u001b[39mself\u001b[39;49m\u001b[39m.\u001b[39;49mnet,\n\u001b[1;32m    165\u001b[0m                                        budget \u001b[39m=\u001b[39;49m \u001b[39mself\u001b[39;49m\u001b[39m.\u001b[39;49mperturb,\n\u001b[1;32m    166\u001b[0m                                        x \u001b[39m=\u001b[39;49m \u001b[39mself\u001b[39;49m\u001b[39m.\u001b[39;49mData[\u001b[39m'\u001b[39;49m\u001b[39mx_\u001b[39;49m\u001b[39m%s\u001b[39;49;00m\u001b[39m'\u001b[39;49m\u001b[39m%\u001b[39;49mdata_string],\n\u001b[1;32m    167\u001b[0m                                        y \u001b[39m=\u001b[39;49m \u001b[39mself\u001b[39;49m\u001b[39m.\u001b[39;49mData[\u001b[39m'\u001b[39;49m\u001b[39my_\u001b[39;49m\u001b[39m%s\u001b[39;49;00m\u001b[39m'\u001b[39;49m\u001b[39m%\u001b[39;49mdata_string],\n\u001b[1;32m    168\u001b[0m                                        beta \u001b[39m=\u001b[39;49m \u001b[39mself\u001b[39;49m\u001b[39m.\u001b[39;49mbeta,\n\u001b[1;32m    169\u001b[0m                                        n_queries\u001b[39m=\u001b[39;49mnum_queries,\n\u001b[1;32m    170\u001b[0m                                        n_restarts\u001b[39m=\u001b[39;49m\u001b[39m1\u001b[39;49m,\n\u001b[1;32m    171\u001b[0m                                        device\u001b[39m=\u001b[39;49m\u001b[39mself\u001b[39;49m\u001b[39m.\u001b[39;49mdevice,\n\u001b[1;32m    172\u001b[0m                                        log_path\u001b[39m=\u001b[39;49m\u001b[39mNone\u001b[39;49;00m\n\u001b[1;32m    173\u001b[0m                                        )\n\u001b[1;32m    175\u001b[0m \u001b[39mreturn\u001b[39;00m r_acc, x_advs, y_advs, i_advs\n",
      "File \u001b[0;32m~/home/code/robust-l0/utils/attack.py:141\u001b[0m, in \u001b[0;36mattack\u001b[0;34m(net, budget, x, y, beta, **kwargs)\u001b[0m\n\u001b[1;32m    139\u001b[0m x_batch_beta \u001b[39m=\u001b[39m beta_transform(x_batch,beta)\n\u001b[1;32m    140\u001b[0m \u001b[39m# run batch and store in list\u001b[39;00m\n\u001b[0;32m--> 141\u001b[0m r_acc, b_x_adv, b_y_adv, b_i_adv \u001b[39m=\u001b[39m attack_batch(net, \n\u001b[1;32m    142\u001b[0m                                                 x_batch_beta\u001b[39m.\u001b[39;49mto(device), \n\u001b[1;32m    143\u001b[0m                                                 y_batch\u001b[39m.\u001b[39;49mto(device), \n\u001b[1;32m    144\u001b[0m                                                 adversary)\n\u001b[1;32m    145\u001b[0m b_x_adv \u001b[39m=\u001b[39m beta_revert(b_x_adv, beta)\n\u001b[1;32m    146\u001b[0m \u001b[39m# some batches might have different weight\u001b[39;00m\n",
      "File \u001b[0;32m~/home/code/robust-l0/utils/attack.py:55\u001b[0m, in \u001b[0;36mattack_batch\u001b[0;34m(net, x, y, adversary)\u001b[0m\n\u001b[1;32m     53\u001b[0m \u001b[39m# attack images that need to be fooled\u001b[39;00m\n\u001b[1;32m     54\u001b[0m ind_to_fool \u001b[39m=\u001b[39m (pred \u001b[39m==\u001b[39m \u001b[39m1\u001b[39m)\u001b[39m.\u001b[39mnonzero(as_tuple\u001b[39m=\u001b[39m\u001b[39mFalse\u001b[39;00m)\u001b[39m.\u001b[39msqueeze()\n\u001b[0;32m---> 55\u001b[0m _, adv \u001b[39m=\u001b[39m adversary\u001b[39m.\u001b[39;49mperturb(x[ind_to_fool], y[ind_to_fool])\n\u001b[1;32m     57\u001b[0m n_missed \u001b[39m=\u001b[39m \u001b[39mlen\u001b[39m(x) \u001b[39m-\u001b[39m \u001b[39mlen\u001b[39m(ind_to_fool) \u001b[39m# number of misclassified\u001b[39;00m\n\u001b[1;32m     58\u001b[0m \u001b[39m# classify perturbed images and compute robust accuracy\u001b[39;00m\n",
      "File \u001b[0;32m~/home/code/robust-l0/utils/attacks/sparse_rs.py:959\u001b[0m, in \u001b[0;36mRSAttack.perturb\u001b[0;34m(self, x, y)\u001b[0m\n\u001b[1;32m    956\u001b[0m x_to_fool \u001b[39m=\u001b[39m x[ind_to_fool]\u001b[39m.\u001b[39mclone()\n\u001b[1;32m    957\u001b[0m y_to_fool \u001b[39m=\u001b[39m y[ind_to_fool]\u001b[39m.\u001b[39mclone()\n\u001b[0;32m--> 959\u001b[0m qr_curr, adv_curr \u001b[39m=\u001b[39m \u001b[39mself\u001b[39;49m\u001b[39m.\u001b[39;49mattack_single_run(x_to_fool, y_to_fool)\n\u001b[1;32m    961\u001b[0m output_curr \u001b[39m=\u001b[39m \u001b[39mself\u001b[39m\u001b[39m.\u001b[39mpredict(adv_curr)\n\u001b[1;32m    962\u001b[0m \u001b[39mif\u001b[39;00m \u001b[39mnot\u001b[39;00m \u001b[39mself\u001b[39m\u001b[39m.\u001b[39mtargeted:\n",
      "File \u001b[0;32m~/home/code/robust-l0/utils/attacks/sparse_rs.py:338\u001b[0m, in \u001b[0;36mRSAttack.attack_single_run\u001b[0;34m(self, x, y)\u001b[0m\n\u001b[1;32m    336\u001b[0m p_set \u001b[39m=\u001b[39m b_curr[img, ind_p]\n\u001b[1;32m    337\u001b[0m np_set \u001b[39m=\u001b[39m be_curr[img, ind_np]\n\u001b[0;32m--> 338\u001b[0m x_new[img, :, p_set \u001b[39m/\u001b[39m\u001b[39m/\u001b[39m w, p_set \u001b[39m%\u001b[39;49m w] \u001b[39m=\u001b[39m x_curr[img, :, p_set \u001b[39m/\u001b[39m\u001b[39m/\u001b[39m w, p_set \u001b[39m%\u001b[39m w]\u001b[39m.\u001b[39mclone()\n\u001b[1;32m    339\u001b[0m \u001b[39mif\u001b[39;00m eps_it \u001b[39m>\u001b[39m \u001b[39m1\u001b[39m:\n\u001b[1;32m    340\u001b[0m     x_new[img, :, np_set \u001b[39m/\u001b[39m\u001b[39m/\u001b[39m w, np_set \u001b[39m%\u001b[39m w] \u001b[39m=\u001b[39m \u001b[39mself\u001b[39m\u001b[39m.\u001b[39mrandom_choice([c, eps_it])\u001b[39m.\u001b[39mclamp(\u001b[39m0.\u001b[39m, \u001b[39m1.\u001b[39m)\n",
      "\u001b[0;31mKeyboardInterrupt\u001b[0m: "
     ]
    }
   ],
   "source": [
    "trainer.run()"
   ]
  }
 ],
 "metadata": {
  "kernelspec": {
   "display_name": "Python 3.8.5 ('robust')",
   "language": "python",
   "name": "python3"
  },
  "language_info": {
   "codemirror_mode": {
    "name": "ipython",
    "version": 3
   },
   "file_extension": ".py",
   "mimetype": "text/x-python",
   "name": "python",
   "nbconvert_exporter": "python",
   "pygments_lexer": "ipython3",
   "version": "3.8.5"
  },
  "orig_nbformat": 4,
  "vscode": {
   "interpreter": {
    "hash": "acfbcb7204aabebe0fded38f32a9455336bc712d2a72fb977b5ecc1782ddc648"
   }
  }
 },
 "nbformat": 4,
 "nbformat_minor": 2
}
