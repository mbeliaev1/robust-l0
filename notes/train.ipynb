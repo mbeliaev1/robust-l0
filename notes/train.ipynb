{
 "cells": [
  {
   "cell_type": "code",
   "execution_count": 4,
   "metadata": {},
   "outputs": [],
   "source": [
    "import torch\n",
    "import torch.nn as nn\n",
    "import numpy as np\n",
    "\n",
    "# from utils.adv_trainer import *\n",
    "\n",
    "import os\n",
    "import sys\n",
    "root = os.path.abspath('/home/mbeliaev/home/code/robust-l0/')\n",
    "sys.path.append(root)\n",
    "\n",
    "from utils.models import Net\n",
    "\n",
    "from utils.helpers import *\n",
    "\n",
    "from utils.adv_trainer import adv_trainer\n",
    "from tqdm import trange"
   ]
  },
  {
   "cell_type": "code",
   "execution_count": 5,
   "metadata": {},
   "outputs": [],
   "source": [
    "# PAPER PARAMS\n",
    "cfg_name = 'cnn_small'\n",
    "embedding = 512 \n",
    "bs = 256\n",
    "lr = 0.01\n",
    "momentum = 0.9\n",
    "\n",
    "# Extra params\n",
    "decay = 1\n",
    "k = 5\n",
    "perturb = 5\n",
    "seed = 5\n",
    "save_dir = '/new_trained/test/'\n",
    "num_iters = 2\n",
    "num_epochs = 25 # per iteration\n",
    "num_queries = 10\n",
    "no_adv = False\n",
    "dataset = 'MNIST'\n",
    "device = 'cuda:2'\n",
    "\n",
    "# extra extra\n",
    "# Data = prep_data(root, bs, dataset)\n",
    "# Data['x_train'][0].shape\n",
    "# num_batches = 100\n",
    "# image = torch.randn(bs,1,28,28).to(device)\n",
    "# input_shape = image.shape"
   ]
  },
  {
   "cell_type": "code",
   "execution_count": 6,
   "metadata": {},
   "outputs": [
    {
     "ename": "FileExistsError",
     "evalue": "[Errno 17] File exists: '/home/mbeliaev/home/code/robust-l0/new_trained/test/conv/'",
     "output_type": "error",
     "traceback": [
      "\u001b[0;31m---------------------------------------------------------------------------\u001b[0m",
      "\u001b[0;31mFileExistsError\u001b[0m                           Traceback (most recent call last)",
      "\u001b[1;32m/home/mbeliaev/home/code/robust-l0/notes/train.ipynb Cell 3\u001b[0m in \u001b[0;36m<cell line: 4>\u001b[0;34m()\u001b[0m\n\u001b[1;32m      <a href='vscode-notebook-cell://ssh-remote%2B7b22686f73744e616d65223a22646863703138352d36342e6563652e756373622e656475222c2275736572223a226d62656c69616576227d/home/mbeliaev/home/code/robust-l0/notes/train.ipynb#W2sdnNjb2RlLXJlbW90ZQ%3D%3D?line=1'>2</a>\u001b[0m EXP_TYPES \u001b[39m=\u001b[39m [\u001b[39m'\u001b[39m\u001b[39mconv\u001b[39m\u001b[39m'\u001b[39m]\n\u001b[1;32m      <a href='vscode-notebook-cell://ssh-remote%2B7b22686f73744e616d65223a22646863703138352d36342e6563652e756373622e656475222c2275736572223a226d62656c69616576227d/home/mbeliaev/home/code/robust-l0/notes/train.ipynb#W2sdnNjb2RlLXJlbW90ZQ%3D%3D?line=3'>4</a>\u001b[0m \u001b[39mfor\u001b[39;00m exp_key \u001b[39min\u001b[39;00m EXP_TYPES:\n\u001b[0;32m----> <a href='vscode-notebook-cell://ssh-remote%2B7b22686f73744e616d65223a22646863703138352d36342e6563652e756373622e656475222c2275736572223a226d62656c69616576227d/home/mbeliaev/home/code/robust-l0/notes/train.ipynb#W2sdnNjb2RlLXJlbW90ZQ%3D%3D?line=4'>5</a>\u001b[0m     os\u001b[39m.\u001b[39;49mmkdir(root\u001b[39m+\u001b[39;49msave_dir\u001b[39m+\u001b[39;49mexp_key\u001b[39m+\u001b[39;49m\u001b[39m'\u001b[39;49m\u001b[39m/\u001b[39;49m\u001b[39m'\u001b[39;49m)\n\u001b[1;32m      <a href='vscode-notebook-cell://ssh-remote%2B7b22686f73744e616d65223a22646863703138352d36342e6563652e756373622e656475222c2275736572223a226d62656c69616576227d/home/mbeliaev/home/code/robust-l0/notes/train.ipynb#W2sdnNjb2RlLXJlbW90ZQ%3D%3D?line=5'>6</a>\u001b[0m     \u001b[39mprint\u001b[39m(\u001b[39m'\u001b[39m\u001b[39mRunning experiment: \u001b[39m\u001b[39m'\u001b[39m,exp_key)\n\u001b[1;32m      <a href='vscode-notebook-cell://ssh-remote%2B7b22686f73744e616d65223a22646863703138352d36342e6563652e756373622e656475222c2275736572223a226d62656c69616576227d/home/mbeliaev/home/code/robust-l0/notes/train.ipynb#W2sdnNjb2RlLXJlbW90ZQ%3D%3D?line=6'>7</a>\u001b[0m     \u001b[39mif\u001b[39;00m exp_key \u001b[39m==\u001b[39m \u001b[39m'\u001b[39m\u001b[39mog\u001b[39m\u001b[39m'\u001b[39m: \n",
      "\u001b[0;31mFileExistsError\u001b[0m: [Errno 17] File exists: '/home/mbeliaev/home/code/robust-l0/new_trained/test/conv/'"
     ]
    }
   ],
   "source": [
    "# EXP_TYPES = ['og','linear_dep','clip','linear_dep_abs','clip_abs']\n",
    "EXP_TYPES = ['conv']\n",
    "\n",
    "for exp_key in EXP_TYPES:\n",
    "    os.mkdir(root+save_dir+exp_key+'/')\n",
    "    print('Running experiment: ',exp_key)\n",
    "    if exp_key == 'og': \n",
    "        adv = 0\n",
    "        budget = perturb\n",
    "    else: \n",
    "        adv = k\n",
    "        budget = perturb\n",
    "    # create trainer\n",
    "    trainer = adv_trainer(root=root, \n",
    "                          cfg_name=cfg_name,\n",
    "                          trunc_type=exp_key,\n",
    "                          dataset=dataset,\n",
    "                          k=adv,\n",
    "                          perturb=budget,\n",
    "                          bs=bs, \n",
    "                          num_iters=num_iters, \n",
    "                          num_epochs=num_epochs,\n",
    "                          num_queries=num_queries, \n",
    "                          no_adv=no_adv,\n",
    "                          lr=lr,\n",
    "                          momentum=momentum,\n",
    "                          decay=decay,\n",
    "                          embedding=embedding,\n",
    "                          seed=99,\n",
    "                          save_dir=save_dir+exp_key+'/', \n",
    "                          device=device)\n",
    "    trainer.run()\n"
   ]
  },
  {
   "cell_type": "code",
   "execution_count": null,
   "metadata": {},
   "outputs": [],
   "source": [
    "# import pickle\n",
    "\n",
    "# EXP_TYPES = ['og','linear_dep','clip','linear_dep_abs','clip_abs']\n",
    "\n",
    "# for exp_type in EXP_TYPES:\n",
    "#     print(exp_type)\n",
    "#     str_result_path = '/home/mbeliaev/home/code/robust-l0/new_trained/test2/%s/results.p'%exp_type\n",
    "#     result_path = '/home/mbeliaev/home/code/robust-l0/new_trained/test2/%s/f_results.p'%exp_type\n",
    "#     result = pickle.load(open(result_path,'rb'))\n",
    "#     print(result)\n",
    "#     print('--------'*8)\n",
    "#     str_result = pickle.load(open(str_result_path,'rb'))\n",
    "#     print('--------'*8)"
   ]
  },
  {
   "cell_type": "code",
   "execution_count": null,
   "metadata": {},
   "outputs": [],
   "source": [
    "1568/2"
   ]
  },
  {
   "cell_type": "code",
   "execution_count": null,
   "metadata": {},
   "outputs": [],
   "source": []
  }
 ],
 "metadata": {
  "kernelspec": {
   "display_name": "Python 3.8.5 ('robust')",
   "language": "python",
   "name": "python3"
  },
  "language_info": {
   "codemirror_mode": {
    "name": "ipython",
    "version": 3
   },
   "file_extension": ".py",
   "mimetype": "text/x-python",
   "name": "python",
   "nbconvert_exporter": "python",
   "pygments_lexer": "ipython3",
   "version": "3.8.5"
  },
  "orig_nbformat": 4,
  "vscode": {
   "interpreter": {
    "hash": "acfbcb7204aabebe0fded38f32a9455336bc712d2a72fb977b5ecc1782ddc648"
   }
  }
 },
 "nbformat": 4,
 "nbformat_minor": 2
}
