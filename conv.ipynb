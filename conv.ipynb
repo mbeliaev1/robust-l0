{
 "cells": [
  {
   "cell_type": "code",
   "execution_count": 1,
   "metadata": {},
   "outputs": [],
   "source": [
    "import torch\n",
    "import torch.nn as nn\n",
    "import numpy as np\n",
    "import math\n",
    "\n",
    "import os\n",
    "import sys\n",
    "root = os.path.abspath(os.curdir)\n",
    "sys.path.append(root)\n",
    "\n",
    "device = 'cuda:0'"
   ]
  },
  {
   "cell_type": "code",
   "execution_count": 2,
   "metadata": {},
   "outputs": [
    {
     "name": "stdout",
     "output_type": "stream",
     "text": [
      "tensor([[ 0.9640,  0.1733, -0.0119, -0.6839, -0.1156],\n",
      "        [-1.2953, -1.2084, -0.4730, -1.7243, -0.2829]], device='cuda:0')\n",
      "tensor([[-0.9351,  1.0108, -0.2260,  0.6809, -0.0114],\n",
      "        [ 1.8429,  1.3490,  0.0785, -1.0828, -1.1014],\n",
      "        [ 0.0106,  0.4968,  0.6381, -0.1247, -2.0208],\n",
      "        [-0.3257,  1.2431, -1.0835, -0.7979,  0.6470],\n",
      "        [ 0.6788,  0.5792,  1.6970,  0.0283,  1.4778]], device='cuda:0')\n"
     ]
    }
   ],
   "source": [
    "# testing independent clip\n",
    "bs = 2\n",
    "in_ch = 5\n",
    "out_ch = 5\n",
    "k = 2\n",
    "\n",
    "x = torch.randn(bs,in_ch).to(device)\n",
    "weight = torch.randn(out_ch, in_ch).to(device) \n",
    "\n",
    "print(x)\n",
    "print(weight)"
   ]
  },
  {
   "cell_type": "code",
   "execution_count": 36,
   "metadata": {},
   "outputs": [
    {
     "name": "stdout",
     "output_type": "stream",
     "text": [
      "tensor([[-1.2630, -0.7869,  1.3594,  0.8437, -1.0029],\n",
      "        [-1.2470,  2.0593, -1.3713,  1.3699,  1.2348]], device='cuda:0')\n",
      "x shape:  torch.Size([2, 5])\n",
      "sum of x@W along input pixel dimension:  torch.Size([2, 5])\n",
      "tensor([[2, 3],\n",
      "        [1, 3]], device='cuda:0')\n",
      "tensor([[0, 4],\n",
      "        [2, 0]], device='cuda:0')\n",
      "tensor([[0., 1., 0., 0., 0.],\n",
      "        [0., 0., 0., 0., 1.]], device='cuda:0')\n",
      "tensor([[-0.7869, -0.7869, -0.7869, -0.7869, -0.7869],\n",
      "        [ 1.2348,  1.2348,  1.2348,  1.2348,  1.2348]], device='cuda:0')\n"
     ]
    }
   ],
   "source": [
    "# regular ind trunc\n",
    "\n",
    "print(x)\n",
    "x_vals = x.clone().detach() #(bs, in_features)\n",
    "print('x shape: ',x_vals.shape)\n",
    "temp = (x_vals.view(-1,1,in_ch)*weight).sum(axis=1) # (bs, out_features, in_features)\n",
    "print('sum of x@W along input pixel dimension: ',temp.shape)\n",
    "# x = torch.matmul(x,weight.T) #(bs, out_features)\n",
    "# print('x@W: ',x.shape)\n",
    "# print(temp.sum(axis=1))\n",
    "# sum over last axis gives you x@W\n",
    "# sum over first axis gives you largest contribution per in_feature\n",
    "# for x in bs, out_features element wise prod. of w and x\n",
    "_, idx_top = torch.topk(temp,k) #(bs, out_dim, self.k)\n",
    "_, idx_bot = torch.topk(-1*temp,k)\n",
    "print(idx_top)\n",
    "print(idx_bot)\n",
    "z = torch.ones(bs,in_ch).to(device)\n",
    "z[np.arange(bs),idx_top.T] = 0\n",
    "z[np.arange(bs),idx_bot.T] = 0\n",
    "print(z)\n",
    "# print(x)\n",
    "x = torch.matmul(z*x,weight.T)\n",
    "# print(z*x)\n",
    "print(x)\n",
    "\n",
    "# print(val_top.shape)\n",
    "\n",
    "# x -= val_top.sum(axis=-1)\n",
    "# x += val_bot.sum(axis=-1)\n"
   ]
  },
  {
   "cell_type": "code",
   "execution_count": 43,
   "metadata": {},
   "outputs": [
    {
     "data": {
      "text/plain": [
       "tensor([0.8574, 0.4394, 0.7596, 1.1383, 1.8523])"
      ]
     },
     "execution_count": 43,
     "metadata": {},
     "output_type": "execute_result"
    }
   ],
   "source": [
    "torch.abs(torch.randn(5))"
   ]
  },
  {
   "cell_type": "code",
   "execution_count": 42,
   "metadata": {},
   "outputs": [
    {
     "name": "stdout",
     "output_type": "stream",
     "text": [
      "tensor([[1., 1., 1., 1., 1.],\n",
      "        [1., 1., 1., 1., 1.]], device='cuda:0')\n",
      "tensor([[2, 3],\n",
      "        [1, 3]], device='cuda:0')\n",
      "tensor([[1., 0., 0., 0., 1.],\n",
      "        [1., 0., 0., 0., 1.]], device='cuda:0')\n"
     ]
    }
   ],
   "source": [
    "z = torch.ones(bs,in_ch).to(device)\n",
    "print(z)\n",
    "print(idx_top)\n",
    "# print(z[np.arange(bs),idx_top.T])\n",
    "z[:,idx_top.T] = 0\n",
    "print(z)\n"
   ]
  },
  {
   "cell_type": "code",
   "execution_count": 38,
   "metadata": {},
   "outputs": [
    {
     "ename": "IndexError",
     "evalue": "only integers, slices (`:`), ellipsis (`...`), None and long or byte Variables are valid indices (got builtin_function_or_method)",
     "output_type": "error",
     "traceback": [
      "\u001b[0;31m---------------------------------------------------------------------------\u001b[0m",
      "\u001b[0;31mIndexError\u001b[0m                                Traceback (most recent call last)",
      "\u001b[1;32m/home/mbeliaev/home/code/robust-l0/conv.ipynb Cell 5\u001b[0m in \u001b[0;36m<cell line: 1>\u001b[0;34m()\u001b[0m\n\u001b[0;32m----> <a href='vscode-notebook-cell://ssh-remote%2B7b22686f73744e616d65223a22646863703138352d36342e6563652e756373622e656475222c2275736572223a226d62656c69616576227d/home/mbeliaev/home/code/robust-l0/conv.ipynb#X14sdnNjb2RlLXJlbW90ZQ%3D%3D?line=0'>1</a>\u001b[0m idx_top[np\u001b[39m.\u001b[39;49marange]\n",
      "\u001b[0;31mIndexError\u001b[0m: only integers, slices (`:`), ellipsis (`...`), None and long or byte Variables are valid indices (got builtin_function_or_method)"
     ]
    }
   ],
   "source": [
    "idx_top[np.arange]"
   ]
  },
  {
   "cell_type": "code",
   "execution_count": null,
   "metadata": {},
   "outputs": [],
   "source": []
  },
  {
   "cell_type": "code",
   "execution_count": null,
   "metadata": {},
   "outputs": [],
   "source": [
    "w,h = 28,28\n",
    "kernel_dim = 3\n",
    "bs = 128\n",
    "in_ch = 3\n",
    "out_ch = 3\n",
    "\n",
    "image = torch.randn(bs,in_ch,w,h).to(device)\n",
    "kernel = torch.randn(out_ch,in_ch,kernel_dim,kernel_dim).to(device)"
   ]
  },
  {
   "cell_type": "code",
   "execution_count": null,
   "metadata": {},
   "outputs": [],
   "source": []
  },
  {
   "cell_type": "code",
   "execution_count": 4,
   "metadata": {},
   "outputs": [],
   "source": [
    "nn_conv = torch.nn.Conv2d(in_ch,out_ch,kernel_dim,bias=True).to(device)\n",
    "\n",
    "conv = my_conv(in_ch,out_ch,kernel_dim,bias=True).to(device)\n",
    "conv.weight = nn_conv.weight\n",
    "conv.bias = nn_conv.bias"
   ]
  },
  {
   "cell_type": "code",
   "execution_count": 5,
   "metadata": {},
   "outputs": [],
   "source": [
    "nn_out = nn_conv(image)\n",
    "out = conv(image)"
   ]
  },
  {
   "cell_type": "code",
   "execution_count": 6,
   "metadata": {},
   "outputs": [
    {
     "name": "stdout",
     "output_type": "stream",
     "text": [
      "torch.Size([128, 3, 26, 26])\n",
      "torch.Size([128, 3, 26, 26])\n",
      "tensor(True, device='cuda:0')\n"
     ]
    }
   ],
   "source": [
    "print(nn_out.shape)\n",
    "print(out.shape)\n",
    "print(((nn_out - out)<0.00001).sum() == np.prod(nn_out.shape))\n",
    "# print(((out - my_out)))"
   ]
  },
  {
   "cell_type": "code",
   "execution_count": null,
   "metadata": {},
   "outputs": [],
   "source": []
  }
 ],
 "metadata": {
  "kernelspec": {
   "display_name": "Python 3.8.5 ('robust')",
   "language": "python",
   "name": "python3"
  },
  "language_info": {
   "codemirror_mode": {
    "name": "ipython",
    "version": 3
   },
   "file_extension": ".py",
   "mimetype": "text/x-python",
   "name": "python",
   "nbconvert_exporter": "python",
   "pygments_lexer": "ipython3",
   "version": "3.8.5"
  },
  "orig_nbformat": 4,
  "vscode": {
   "interpreter": {
    "hash": "acfbcb7204aabebe0fded38f32a9455336bc712d2a72fb977b5ecc1782ddc648"
   }
  }
 },
 "nbformat": 4,
 "nbformat_minor": 2
}
