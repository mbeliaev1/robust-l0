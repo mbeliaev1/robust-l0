{
 "cells": [
  {
   "cell_type": "code",
   "execution_count": 1,
   "metadata": {},
   "outputs": [],
   "source": [
    "import torch\n",
    "import torch.nn as nn\n",
    "import torch.optim as optim\n",
    "# other modules\n",
    "import numpy as np\n",
    "from tqdm import trange\n",
    "import pickle\n",
    "# internal imports\n",
    "from utils.attacks.sparse_rs import RSAttack\n",
    "from utils.models import *\n",
    "from utils.helpers import *\n",
    "\n",
    "import torch\n",
    "import argparse\n",
    "import json\n",
    "# PATHING\n",
    "import os\n",
    "import sys\n",
    "root = os.path.abspath(os.curdir)\n",
    "sys.path.append(root)\n",
    "\n",
    "from utils.attack import attack\n",
    "# local imports\n",
    "# from utils.adv_trainer import adv_trainer"
   ]
  },
  {
   "cell_type": "markdown",
   "metadata": {},
   "source": []
  },
  {
   "cell_type": "markdown",
   "metadata": {},
   "source": []
  },
  {
   "cell_type": "code",
   "execution_count": 2,
   "metadata": {},
   "outputs": [
    {
     "name": "stdout",
     "output_type": "stream",
     "text": [
      "Loading configuration:\n",
      "\t arch :  cnn_large\n",
      "\t no_adv :  True\n",
      "\t device :  cuda:3\n",
      "\t dataset :  MNIST\n",
      "\t exp :  test_mnist\n",
      "\t out_dir :  new_trained\n",
      "\t k :  0\n",
      "\t perturb :  12\n",
      "\t seed :  99\n",
      "\t bs :  128\n",
      "\t lr :  0.1\n",
      "\t momentum :  0.9\n",
      "\t decay :  0.5\n",
      "\t embedding :  256\n",
      "\t iters :  5\n",
      "\t queries :  300\n",
      "\t epochs :  10\n"
     ]
    },
    {
     "ename": "TypeError",
     "evalue": "'int' object is not subscriptable",
     "output_type": "error",
     "traceback": [
      "\u001b[0;31m---------------------------------------------------------------------------\u001b[0m",
      "\u001b[0;31mTypeError\u001b[0m                                 Traceback (most recent call last)",
      "\u001b[1;32m/home/mbeliaev/home/code/robust-l0/note.ipynb Cell 4\u001b[0m in \u001b[0;36m<cell line: 13>\u001b[0;34m()\u001b[0m\n\u001b[1;32m     <a href='vscode-notebook-cell://ssh-remote%2B7b22686f73744e616d65223a22646863703138352d36342e6563652e756373622e656475222c2275736572223a226d62656c69616576227d/home/mbeliaev/home/code/robust-l0/note.ipynb#W1sdnNjb2RlLXJlbW90ZQ%3D%3D?line=10'>11</a>\u001b[0m \u001b[39m# load model\u001b[39;00m\n\u001b[1;32m     <a href='vscode-notebook-cell://ssh-remote%2B7b22686f73744e616d65223a22646863703138352d36342e6563652e756373622e656475222c2275736572223a226d62656c69616576227d/home/mbeliaev/home/code/robust-l0/note.ipynb#W1sdnNjb2RlLXJlbW90ZQ%3D%3D?line=11'>12</a>\u001b[0m Data \u001b[39m=\u001b[39m prep_data(root, config[\u001b[39m'\u001b[39m\u001b[39mbs\u001b[39m\u001b[39m'\u001b[39m], config[\u001b[39m'\u001b[39m\u001b[39mdataset\u001b[39m\u001b[39m'\u001b[39m])\n\u001b[0;32m---> <a href='vscode-notebook-cell://ssh-remote%2B7b22686f73744e616d65223a22646863703138352d36342e6563652e756373622e656475222c2275736572223a226d62656c69616576227d/home/mbeliaev/home/code/robust-l0/note.ipynb#W1sdnNjb2RlLXJlbW90ZQ%3D%3D?line=12'>13</a>\u001b[0m net \u001b[39m=\u001b[39m Net(config[\u001b[39m'\u001b[39;49m\u001b[39march\u001b[39;49m\u001b[39m'\u001b[39;49m], config[\u001b[39m'\u001b[39;49m\u001b[39mk\u001b[39;49m\u001b[39m'\u001b[39;49m], config[\u001b[39m'\u001b[39;49m\u001b[39membedding\u001b[39;49m\u001b[39m'\u001b[39;49m], Data[\u001b[39m'\u001b[39;49m\u001b[39mx_test\u001b[39;49m\u001b[39m'\u001b[39;49m][\u001b[39m0\u001b[39;49m]\u001b[39m.\u001b[39;49mshape)\n\u001b[1;32m     <a href='vscode-notebook-cell://ssh-remote%2B7b22686f73744e616d65223a22646863703138352d36342e6563652e756373622e656475222c2275736572223a226d62656c69616576227d/home/mbeliaev/home/code/robust-l0/note.ipynb#W1sdnNjb2RlLXJlbW90ZQ%3D%3D?line=13'>14</a>\u001b[0m net \u001b[39m=\u001b[39m net\u001b[39m.\u001b[39mto(device)\n\u001b[1;32m     <a href='vscode-notebook-cell://ssh-remote%2B7b22686f73744e616d65223a22646863703138352d36342e6563652e756373622e656475222c2275736572223a226d62656c69616576227d/home/mbeliaev/home/code/robust-l0/note.ipynb#W1sdnNjb2RlLXJlbW90ZQ%3D%3D?line=14'>15</a>\u001b[0m net\u001b[39m.\u001b[39mload_state_dict(torch\u001b[39m.\u001b[39mload(net_path\u001b[39m+\u001b[39m\u001b[39m'\u001b[39m\u001b[39mnet.pth\u001b[39m\u001b[39m'\u001b[39m, map_location\u001b[39m=\u001b[39mdevice))\n",
      "File \u001b[0;32m~/home/code/robust-l0/utils/models.py:46\u001b[0m, in \u001b[0;36mNet.__init__\u001b[0;34m(self, cfg_name, embedding, input_shape, k, trunc_type)\u001b[0m\n\u001b[1;32m     44\u001b[0m \u001b[39msuper\u001b[39m(Net, \u001b[39mself\u001b[39m)\u001b[39m.\u001b[39m\u001b[39m__init__\u001b[39m()\n\u001b[1;32m     45\u001b[0m \u001b[39mself\u001b[39m\u001b[39m.\u001b[39minput_shape \u001b[39m=\u001b[39m input_shape\n\u001b[0;32m---> 46\u001b[0m \u001b[39mself\u001b[39m\u001b[39m.\u001b[39mtrunc \u001b[39m=\u001b[39m \u001b[39mself\u001b[39;49m\u001b[39m.\u001b[39;49m_make_trunc(k, trunc_type) \u001b[39m# can be empty\u001b[39;00m\n\u001b[1;32m     47\u001b[0m \u001b[39mself\u001b[39m\u001b[39m.\u001b[39mfeatures \u001b[39m=\u001b[39m \u001b[39mself\u001b[39m\u001b[39m.\u001b[39m_make_layers(cfg[cfg_name])\n\u001b[1;32m     48\u001b[0m \u001b[39mself\u001b[39m\u001b[39m.\u001b[39mclassifier \u001b[39m=\u001b[39m \u001b[39mself\u001b[39m\u001b[39m.\u001b[39m_make_classifier(embedding)\n",
      "File \u001b[0;32m~/home/code/robust-l0/utils/models.py:69\u001b[0m, in \u001b[0;36mNet._make_trunc\u001b[0;34m(self, k, trunc_type)\u001b[0m\n\u001b[1;32m     59\u001b[0m \u001b[39m'''\u001b[39;00m\n\u001b[1;32m     60\u001b[0m \u001b[39mTruncation layer PRESERVES INPUT SHAPE\u001b[39;00m\n\u001b[1;32m     61\u001b[0m \u001b[39mTypes of truncation implemented:\u001b[39;00m\n\u001b[0;32m   (...)\u001b[0m\n\u001b[1;32m     66\u001b[0m \u001b[39mno_weights - essentially a clipping function, \u001b[39;00m\n\u001b[1;32m     67\u001b[0m \u001b[39m'''\u001b[39;00m\n\u001b[1;32m     68\u001b[0m layers \u001b[39m=\u001b[39m []\n\u001b[0;32m---> 69\u001b[0m in_shape \u001b[39m=\u001b[39m \u001b[39mself\u001b[39;49m\u001b[39m.\u001b[39;49minput_shape[\u001b[39m1\u001b[39;49m:]\u001b[39m.\u001b[39mnumel()\n\u001b[1;32m     71\u001b[0m \u001b[39mif\u001b[39;00m trunc_type \u001b[39m==\u001b[39m \u001b[39m'\u001b[39m\u001b[39mlinear\u001b[39m\u001b[39m'\u001b[39m \u001b[39m&\u001b[39m k\u001b[39m>\u001b[39m\u001b[39m0\u001b[39m:\n\u001b[1;32m     72\u001b[0m     \u001b[39m# input is always (bs,ch,w,h)\u001b[39;00m\n\u001b[1;32m     73\u001b[0m     layers\u001b[39m.\u001b[39mappend(nn\u001b[39m.\u001b[39mFlatten())\n",
      "\u001b[0;31mTypeError\u001b[0m: 'int' object is not subscriptable"
     ]
    }
   ],
   "source": [
    "# settings for run\n",
    "device = 'cuda:0'\n",
    "net_path = '/home/mbeliaev/home/code/robust-l0/new_trained/test_mnist/cnn_large_k0_p12_seed99/'\n",
    "# net_path = '/home/mbeliaev/home/code/robust-l0/new_trained/test_cifar/cnn_large_k0_p12_seed99/'\n",
    "# this contains f_results.p, net.pth, results.p, setup.json\n",
    "config = json.load(open(net_path+'setup.json','rb'))\n",
    "print('Loading configuration:')\n",
    "for key in config.keys():\n",
    "    print('\\t', key,': ', config[key])\n",
    "\n",
    "# load model\n",
    "Data = prep_data(root, config['bs'], config['dataset'])\n",
    "net = Net(config['arch'], config['k'], config['embedding'], Data['x_test'][0].shape)\n",
    "net = net.to(device)\n",
    "net.load_state_dict(torch.load(net_path+'net.pth', map_location=device))\n",
    "net.eval()"
   ]
  },
  {
   "cell_type": "code",
   "execution_count": null,
   "metadata": {},
   "outputs": [],
   "source": [
    "result_str = pickle.load(open(net_path+'results.p', 'rb'))\n",
    "for string in result_str: print(string)"
   ]
  },
  {
   "cell_type": "code",
   "execution_count": null,
   "metadata": {},
   "outputs": [],
   "source": [
    "# lets quickly confirm this result\n",
    "evaluate(net, Data['x_test'], Data['y_test'], device)"
   ]
  },
  {
   "cell_type": "code",
   "execution_count": null,
   "metadata": {},
   "outputs": [],
   "source": [
    "r_acc, x_adv, y_adv, i_adv = attack(net= net,\n",
    "                            k = 12,\n",
    "                            x = Data['x_test'],\n",
    "                            y = Data['y_test'],\n",
    "                            n_queries=100,\n",
    "                            n_restarts=1,\n",
    "                            device=device,\n",
    "                            log_path=net_path+'rs_log.txt'\n",
    "                            )"
   ]
  },
  {
   "cell_type": "markdown",
   "metadata": {},
   "source": []
  },
  {
   "cell_type": "markdown",
   "metadata": {},
   "source": []
  },
  {
   "cell_type": "code",
   "execution_count": null,
   "metadata": {},
   "outputs": [],
   "source": [
    "len(x_adv[0])"
   ]
  },
  {
   "cell_type": "code",
   "execution_count": null,
   "metadata": {},
   "outputs": [],
   "source": []
  }
 ],
 "metadata": {
  "kernelspec": {
   "display_name": "Python 3.8.5 ('robust')",
   "language": "python",
   "name": "python3"
  },
  "language_info": {
   "codemirror_mode": {
    "name": "ipython",
    "version": 3
   },
   "file_extension": ".py",
   "mimetype": "text/x-python",
   "name": "python",
   "nbconvert_exporter": "python",
   "pygments_lexer": "ipython3",
   "version": "3.8.5"
  },
  "orig_nbformat": 4,
  "vscode": {
   "interpreter": {
    "hash": "acfbcb7204aabebe0fded38f32a9455336bc712d2a72fb977b5ecc1782ddc648"
   }
  }
 },
 "nbformat": 4,
 "nbformat_minor": 2
}
