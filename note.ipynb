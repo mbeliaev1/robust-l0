{
 "cells": [
  {
   "cell_type": "code",
   "execution_count": 1,
   "metadata": {},
   "outputs": [],
   "source": [
    "import torch\n",
    "import torch.nn as nn\n",
    "import torch.optim as optim\n",
    "# other modules\n",
    "import numpy as np\n",
    "from tqdm import trange\n",
    "import pickle\n",
    "# internal imports\n",
    "from utils.attacks.sparse_rs import RSAttack\n",
    "from utils.models import *\n",
    "from utils.helpers import *\n",
    "\n",
    "import torch\n",
    "import argparse\n",
    "import json\n",
    "# PATHING\n",
    "import os\n",
    "import sys\n",
    "root = os.path.abspath(os.curdir)\n",
    "sys.path.append(root)\n",
    "\n",
    "from utils.attack import attack\n",
    "# local imports\n",
    "# from utils.adv_trainer import adv_trainer"
   ]
  },
  {
   "cell_type": "code",
   "execution_count": 2,
   "metadata": {},
   "outputs": [
    {
     "name": "stdout",
     "output_type": "stream",
     "text": [
      "Loading configuration:\n",
      "\t arch :  cnn_large\n",
      "\t no_adv :  True\n",
      "\t device :  cuda:3\n",
      "\t dataset :  MNIST\n",
      "\t exp :  test_mnist\n",
      "\t out_dir :  new_trained\n",
      "\t k :  0\n",
      "\t perturb :  12\n",
      "\t seed :  99\n",
      "\t bs :  128\n",
      "\t lr :  0.1\n",
      "\t momentum :  0.9\n",
      "\t decay :  0.5\n",
      "\t embedding :  256\n",
      "\t iters :  5\n",
      "\t queries :  300\n",
      "\t epochs :  10\n"
     ]
    },
    {
     "data": {
      "text/plain": [
       "Net(\n",
       "  (features): Sequential(\n",
       "    (0): Conv2d(1, 32, kernel_size=(3, 3), stride=(1, 1), padding=(1, 1))\n",
       "    (1): BatchNorm2d(32, eps=1e-05, momentum=0.1, affine=True, track_running_stats=True)\n",
       "    (2): ReLU(inplace=True)\n",
       "    (3): Conv2d(32, 32, kernel_size=(3, 3), stride=(1, 1), padding=(1, 1))\n",
       "    (4): BatchNorm2d(32, eps=1e-05, momentum=0.1, affine=True, track_running_stats=True)\n",
       "    (5): ReLU(inplace=True)\n",
       "    (6): MaxPool2d(kernel_size=2, stride=2, padding=0, dilation=1, ceil_mode=False)\n",
       "    (7): Conv2d(32, 64, kernel_size=(3, 3), stride=(1, 1), padding=(1, 1))\n",
       "    (8): BatchNorm2d(64, eps=1e-05, momentum=0.1, affine=True, track_running_stats=True)\n",
       "    (9): ReLU(inplace=True)\n",
       "    (10): Conv2d(64, 64, kernel_size=(3, 3), stride=(1, 1), padding=(1, 1))\n",
       "    (11): BatchNorm2d(64, eps=1e-05, momentum=0.1, affine=True, track_running_stats=True)\n",
       "    (12): ReLU(inplace=True)\n",
       "    (13): MaxPool2d(kernel_size=2, stride=2, padding=0, dilation=1, ceil_mode=False)\n",
       "    (14): Conv2d(64, 128, kernel_size=(3, 3), stride=(1, 1), padding=(1, 1))\n",
       "    (15): BatchNorm2d(128, eps=1e-05, momentum=0.1, affine=True, track_running_stats=True)\n",
       "    (16): ReLU(inplace=True)\n",
       "    (17): Conv2d(128, 128, kernel_size=(3, 3), stride=(1, 1), padding=(1, 1))\n",
       "    (18): BatchNorm2d(128, eps=1e-05, momentum=0.1, affine=True, track_running_stats=True)\n",
       "    (19): ReLU(inplace=True)\n",
       "    (20): MaxPool2d(kernel_size=2, stride=2, padding=0, dilation=1, ceil_mode=False)\n",
       "  )\n",
       "  (classifier): Sequential(\n",
       "    (0): Linear(in_features=1152, out_features=256, bias=True)\n",
       "    (1): BatchNorm1d(256, eps=1e-05, momentum=0.1, affine=True, track_running_stats=True)\n",
       "    (2): ReLU(inplace=True)\n",
       "    (3): Linear(in_features=256, out_features=10, bias=True)\n",
       "  )\n",
       ")"
      ]
     },
     "execution_count": 2,
     "metadata": {},
     "output_type": "execute_result"
    }
   ],
   "source": [
    "# settings for run\n",
    "device = 'cuda:3'\n",
    "net_path = '/home/mbeliaev/home/code/robust-l0/new_trained/test_mnist/cnn_large_k0_p12_seed99/'\n",
    "# net_path = '/home/mbeliaev/home/code/robust-l0/new_trained/test_cifar/cnn_large_k0_p12_seed99/'\n",
    "# this contains f_results.p, net.pth, results.p, setup.json\n",
    "config = json.load(open(net_path+'setup.json','rb'))\n",
    "print('Loading configuration:')\n",
    "for key in config.keys():\n",
    "    print('\\t', key,': ', config[key])\n",
    "\n",
    "# load model\n",
    "Data = prep_data(root, config['bs'], config['dataset'])\n",
    "net = Net(config['arch'], config['k'], config['embedding'], Data['x_test'][0].shape)\n",
    "net = net.to(device)\n",
    "net.load_state_dict(torch.load(net_path+'net.pth', map_location=device))\n",
    "net.eval()"
   ]
  },
  {
   "cell_type": "code",
   "execution_count": 3,
   "metadata": {},
   "outputs": [
    {
     "name": "stdout",
     "output_type": "stream",
     "text": [
      "Running iter 0\n",
      "Accuracy on testset: 97.380\n",
      "Accuracy on trainset: 97.932\n",
      "Running iter 1\n",
      "Accuracy on testset: 98.950\n",
      "Accuracy on trainset: 99.998\n",
      "Running iter 2\n",
      "Accuracy on testset: 98.970\n",
      "Accuracy on trainset: 99.998\n",
      "Running iter 3\n",
      "Accuracy on testset: 98.940\n",
      "Accuracy on trainset: 99.998\n",
      "Running iter 4\n",
      "Accuracy on testset: 98.940\n",
      "Accuracy on trainset: 100.000\n"
     ]
    }
   ],
   "source": [
    "result_str = pickle.load(open(net_path+'results.p', 'rb'))\n",
    "for string in result_str: print(string)"
   ]
  },
  {
   "cell_type": "code",
   "execution_count": 4,
   "metadata": {},
   "outputs": [
    {
     "data": {
      "text/plain": [
       "98.94"
      ]
     },
     "execution_count": 4,
     "metadata": {},
     "output_type": "execute_result"
    }
   ],
   "source": [
    "# lets quickly confirm this result\n",
    "evaluate(net, Data['x_test'], Data['y_test'], device)"
   ]
  },
  {
   "cell_type": "code",
   "execution_count": 5,
   "metadata": {},
   "outputs": [
    {
     "name": "stderr",
     "output_type": "stream",
     "text": [
      "/home/mbeliaev/home/code/robust-l0/utils/attacks/sparse_rs.py:952: UserWarning: This overload of nonzero is deprecated:\n",
      "\tnonzero()\n",
      "Consider using one of the following signatures instead:\n",
      "\tnonzero(*, bool as_tuple) (Triggered internally at  /opt/conda/conda-bld/pytorch_1607370172916/work/torch/csrc/utils/python_arg_parser.cpp:882.)\n",
      "  ind_to_fool = acc.nonzero().squeeze()\n"
     ]
    }
   ],
   "source": [
    "r_acc, x_adv, y_adv, i_adv = attack(net= net,\n",
    "                            k = 12,\n",
    "                            x = Data['x_test'],\n",
    "                            y = Data['y_test'],\n",
    "                            n_queries=100,\n",
    "                            n_restarts=1,\n",
    "                            device=device,\n",
    "                            log_path=net_path+'rs_log.txt'\n",
    "                            )"
   ]
  },
  {
   "cell_type": "markdown",
   "metadata": {},
   "source": []
  },
  {
   "cell_type": "markdown",
   "metadata": {},
   "source": []
  },
  {
   "cell_type": "code",
   "execution_count": 9,
   "metadata": {},
   "outputs": [
    {
     "data": {
      "text/plain": [
       "74"
      ]
     },
     "execution_count": 9,
     "metadata": {},
     "output_type": "execute_result"
    }
   ],
   "source": [
    "len(x_adv[0])"
   ]
  },
  {
   "cell_type": "code",
   "execution_count": null,
   "metadata": {},
   "outputs": [],
   "source": []
  }
 ],
 "metadata": {
  "kernelspec": {
   "display_name": "Python 3.8.5 ('robust')",
   "language": "python",
   "name": "python3"
  },
  "language_info": {
   "codemirror_mode": {
    "name": "ipython",
    "version": 3
   },
   "file_extension": ".py",
   "mimetype": "text/x-python",
   "name": "python",
   "nbconvert_exporter": "python",
   "pygments_lexer": "ipython3",
   "version": "3.8.5"
  },
  "orig_nbformat": 4,
  "vscode": {
   "interpreter": {
    "hash": "acfbcb7204aabebe0fded38f32a9455336bc712d2a72fb977b5ecc1782ddc648"
   }
  }
 },
 "nbformat": 4,
 "nbformat_minor": 2
}
